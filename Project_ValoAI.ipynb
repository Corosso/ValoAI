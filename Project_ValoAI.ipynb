{
  "cells": [
    {
      "cell_type": "markdown",
      "metadata": {
        "colab_type": "text",
        "id": "view-in-github"
      },
      "source": [
        "<a href=\"https://colab.research.google.com/github/Corosso/ValoAI/blob/main/Project_ValoAI.ipynb\" target=\"_parent\"><img src=\"https://colab.research.google.com/assets/colab-badge.svg\" alt=\"Open In Colab\"/></a>"
      ]
    },
    {
      "cell_type": "code",
      "execution_count": 4,
      "metadata": {
        "id": "2B2RT5sB4ogc"
      },
      "outputs": [],
      "source": [
        "import pandas as pd\n",
        "import numpy as np\n",
        "from sklearn.model_selection import train_test_split\n",
        "from sklearn.linear_model import LogisticRegression\n",
        "from sklearn.metrics import accuracy_score\n",
        "from sklearn.preprocessing import LabelEncoder\n",
        "\n",
        "# Get the data\n",
        "acs = pd.read_csv(\"datasets/teams.csv\")\n",
        "map_win_rate = pd.read_csv(\"datasets/map_win_rate.csv\")\n",
        "previous_matches = pd.read_csv(\"datasets/previous_matches.csv\")"
      ]
    },
    {
      "cell_type": "code",
      "execution_count": 6,
      "metadata": {
        "id": "D2vx0sS-fWI5"
      },
      "outputs": [],
      "source": [
        "# Add a new column to store the team name\n",
        "acs['team'] = acs['team']\n",
        "\n",
        "# Split the ACS values into separate columns\n",
        "acs_s = acs['acs'].str.split(',', expand=True).astype(float)\n",
        "acs_s.columns = ['acs_1', 'acs_2', 'acs_3', 'acs_4', 'acs_5']\n",
        "\n",
        "# Concatenate the team name with the ACS values\n",
        "acs_merged = pd.concat([acs['team'], acs_s], axis=1)"
      ]
    },
    {
      "cell_type": "code",
      "execution_count": 7,
      "metadata": {
        "colab": {
          "base_uri": "https://localhost:8080/"
        },
        "id": "mBL4A_JYekzm",
        "outputId": "146e2e54-15b7-444f-c98b-cc33d54cedaa"
      },
      "outputs": [
        {
          "name": "stderr",
          "output_type": "stream",
          "text": [
            "/var/folders/18/k97_9wrn5xnbkcxtdwj_wf2m0000gn/T/ipykernel_10836/3318318760.py:2: FutureWarning: The default value of regex will change from True to False in a future version.\n",
            "  map_win_rate['map'] = map_win_rate['map'].str.replace(r'\\(\\d+\\)', '')\n"
          ]
        }
      ],
      "source": [
        "# Remove the number in parentheses from the map name\n",
        "map_win_rate['map'] = map_win_rate['map'].str.replace(r'\\(\\d+\\)', '')\n",
        "# Merge ACS and map win rate\n",
        "data = pd.merge(acs_merged, map_win_rate, on=\"team\")\n",
        "# Merge previous matches with acs and win rate\n",
        "data = pd.merge(data, previous_matches, left_on=\"team\", right_on=\"team_A\")\n",
        "# Convert team names to numeric values using label encoder\n",
        "encoder = LabelEncoder()\n",
        "data['team'] = encoder.fit_transform(data['team'])\n",
        "# Convert map names to numeric values using label encoder\n",
        "encoder = LabelEncoder()\n",
        "data['map'] = encoder.fit_transform(data['map'])\n",
        "# Convert team_A and team_B names to numeric values using label encoder\n",
        "encoder = LabelEncoder()\n",
        "data['team_A'] = encoder.fit_transform(data['team_A'])\n",
        "data['team_B'] = encoder.fit_transform(data['team_B'])\n",
        "# Reeplace (\"-\") for NaN\n",
        "data['win_rate'] = data['win_rate'].replace('-', float('nan'))\n",
        "# Convert win rate to float\n",
        "data['win_rate'] = data['win_rate'].str.rstrip('%').astype(float) / 100\n",
        "# Reeplace NaN for zeros\n",
        "data = data.fillna(0)"
      ]
    },
    {
      "cell_type": "code",
      "execution_count": 8,
      "metadata": {
        "colab": {
          "base_uri": "https://localhost:8080/",
          "height": 423
        },
        "id": "jOi10ZlKaIIc",
        "outputId": "ad9f5ea6-6dda-449e-b53a-9ab4381cce7a"
      },
      "outputs": [
        {
          "data": {
            "text/html": [
              "<div>\n",
              "<style scoped>\n",
              "    .dataframe tbody tr th:only-of-type {\n",
              "        vertical-align: middle;\n",
              "    }\n",
              "\n",
              "    .dataframe tbody tr th {\n",
              "        vertical-align: top;\n",
              "    }\n",
              "\n",
              "    .dataframe thead th {\n",
              "        text-align: right;\n",
              "    }\n",
              "</style>\n",
              "<table border=\"1\" class=\"dataframe\">\n",
              "  <thead>\n",
              "    <tr style=\"text-align: right;\">\n",
              "      <th></th>\n",
              "      <th>team</th>\n",
              "      <th>acs_1</th>\n",
              "      <th>acs_2</th>\n",
              "      <th>acs_3</th>\n",
              "      <th>acs_4</th>\n",
              "      <th>acs_5</th>\n",
              "      <th>map</th>\n",
              "      <th>win_rate</th>\n",
              "      <th>team_A</th>\n",
              "      <th>team_B</th>\n",
              "      <th>winner</th>\n",
              "    </tr>\n",
              "  </thead>\n",
              "  <tbody>\n",
              "    <tr>\n",
              "      <th>0</th>\n",
              "      <td>8</td>\n",
              "      <td>186.7</td>\n",
              "      <td>251.5</td>\n",
              "      <td>223.0</td>\n",
              "      <td>220.5</td>\n",
              "      <td>125.0</td>\n",
              "      <td>1</td>\n",
              "      <td>0.68</td>\n",
              "      <td>8</td>\n",
              "      <td>6</td>\n",
              "      <td>1</td>\n",
              "    </tr>\n",
              "    <tr>\n",
              "      <th>1</th>\n",
              "      <td>8</td>\n",
              "      <td>186.7</td>\n",
              "      <td>251.5</td>\n",
              "      <td>223.0</td>\n",
              "      <td>220.5</td>\n",
              "      <td>125.0</td>\n",
              "      <td>1</td>\n",
              "      <td>0.68</td>\n",
              "      <td>8</td>\n",
              "      <td>4</td>\n",
              "      <td>0</td>\n",
              "    </tr>\n",
              "    <tr>\n",
              "      <th>2</th>\n",
              "      <td>8</td>\n",
              "      <td>186.7</td>\n",
              "      <td>251.5</td>\n",
              "      <td>223.0</td>\n",
              "      <td>220.5</td>\n",
              "      <td>125.0</td>\n",
              "      <td>4</td>\n",
              "      <td>0.81</td>\n",
              "      <td>8</td>\n",
              "      <td>6</td>\n",
              "      <td>1</td>\n",
              "    </tr>\n",
              "    <tr>\n",
              "      <th>3</th>\n",
              "      <td>8</td>\n",
              "      <td>186.7</td>\n",
              "      <td>251.5</td>\n",
              "      <td>223.0</td>\n",
              "      <td>220.5</td>\n",
              "      <td>125.0</td>\n",
              "      <td>4</td>\n",
              "      <td>0.81</td>\n",
              "      <td>8</td>\n",
              "      <td>4</td>\n",
              "      <td>0</td>\n",
              "    </tr>\n",
              "    <tr>\n",
              "      <th>4</th>\n",
              "      <td>8</td>\n",
              "      <td>186.7</td>\n",
              "      <td>251.5</td>\n",
              "      <td>223.0</td>\n",
              "      <td>220.5</td>\n",
              "      <td>125.0</td>\n",
              "      <td>8</td>\n",
              "      <td>0.75</td>\n",
              "      <td>8</td>\n",
              "      <td>6</td>\n",
              "      <td>1</td>\n",
              "    </tr>\n",
              "    <tr>\n",
              "      <th>...</th>\n",
              "      <td>...</td>\n",
              "      <td>...</td>\n",
              "      <td>...</td>\n",
              "      <td>...</td>\n",
              "      <td>...</td>\n",
              "      <td>...</td>\n",
              "      <td>...</td>\n",
              "      <td>...</td>\n",
              "      <td>...</td>\n",
              "      <td>...</td>\n",
              "      <td>...</td>\n",
              "    </tr>\n",
              "    <tr>\n",
              "      <th>121</th>\n",
              "      <td>7</td>\n",
              "      <td>250.7</td>\n",
              "      <td>252.7</td>\n",
              "      <td>223.0</td>\n",
              "      <td>186.7</td>\n",
              "      <td>160.0</td>\n",
              "      <td>5</td>\n",
              "      <td>0.64</td>\n",
              "      <td>7</td>\n",
              "      <td>0</td>\n",
              "      <td>1</td>\n",
              "    </tr>\n",
              "    <tr>\n",
              "      <th>122</th>\n",
              "      <td>7</td>\n",
              "      <td>250.7</td>\n",
              "      <td>252.7</td>\n",
              "      <td>223.0</td>\n",
              "      <td>186.7</td>\n",
              "      <td>160.0</td>\n",
              "      <td>2</td>\n",
              "      <td>0.71</td>\n",
              "      <td>7</td>\n",
              "      <td>0</td>\n",
              "      <td>1</td>\n",
              "    </tr>\n",
              "    <tr>\n",
              "      <th>123</th>\n",
              "      <td>7</td>\n",
              "      <td>250.7</td>\n",
              "      <td>252.7</td>\n",
              "      <td>223.0</td>\n",
              "      <td>186.7</td>\n",
              "      <td>160.0</td>\n",
              "      <td>3</td>\n",
              "      <td>0.57</td>\n",
              "      <td>7</td>\n",
              "      <td>0</td>\n",
              "      <td>1</td>\n",
              "    </tr>\n",
              "    <tr>\n",
              "      <th>124</th>\n",
              "      <td>7</td>\n",
              "      <td>250.7</td>\n",
              "      <td>252.7</td>\n",
              "      <td>223.0</td>\n",
              "      <td>186.7</td>\n",
              "      <td>160.0</td>\n",
              "      <td>7</td>\n",
              "      <td>1.00</td>\n",
              "      <td>7</td>\n",
              "      <td>0</td>\n",
              "      <td>1</td>\n",
              "    </tr>\n",
              "    <tr>\n",
              "      <th>125</th>\n",
              "      <td>7</td>\n",
              "      <td>250.7</td>\n",
              "      <td>252.7</td>\n",
              "      <td>223.0</td>\n",
              "      <td>186.7</td>\n",
              "      <td>160.0</td>\n",
              "      <td>6</td>\n",
              "      <td>0.00</td>\n",
              "      <td>7</td>\n",
              "      <td>0</td>\n",
              "      <td>1</td>\n",
              "    </tr>\n",
              "  </tbody>\n",
              "</table>\n",
              "<p>126 rows × 11 columns</p>\n",
              "</div>"
            ],
            "text/plain": [
              "     team  acs_1  acs_2  acs_3  acs_4  acs_5  map  win_rate  team_A  team_B  \\\n",
              "0       8  186.7  251.5  223.0  220.5  125.0    1      0.68       8       6   \n",
              "1       8  186.7  251.5  223.0  220.5  125.0    1      0.68       8       4   \n",
              "2       8  186.7  251.5  223.0  220.5  125.0    4      0.81       8       6   \n",
              "3       8  186.7  251.5  223.0  220.5  125.0    4      0.81       8       4   \n",
              "4       8  186.7  251.5  223.0  220.5  125.0    8      0.75       8       6   \n",
              "..    ...    ...    ...    ...    ...    ...  ...       ...     ...     ...   \n",
              "121     7  250.7  252.7  223.0  186.7  160.0    5      0.64       7       0   \n",
              "122     7  250.7  252.7  223.0  186.7  160.0    2      0.71       7       0   \n",
              "123     7  250.7  252.7  223.0  186.7  160.0    3      0.57       7       0   \n",
              "124     7  250.7  252.7  223.0  186.7  160.0    7      1.00       7       0   \n",
              "125     7  250.7  252.7  223.0  186.7  160.0    6      0.00       7       0   \n",
              "\n",
              "     winner  \n",
              "0         1  \n",
              "1         0  \n",
              "2         1  \n",
              "3         0  \n",
              "4         1  \n",
              "..      ...  \n",
              "121       1  \n",
              "122       1  \n",
              "123       1  \n",
              "124       1  \n",
              "125       1  \n",
              "\n",
              "[126 rows x 11 columns]"
            ]
          },
          "execution_count": 8,
          "metadata": {},
          "output_type": "execute_result"
        }
      ],
      "source": [
        "data"
      ]
    },
    {
      "cell_type": "code",
      "execution_count": 9,
      "metadata": {
        "colab": {
          "base_uri": "https://localhost:8080/"
        },
        "id": "BMf0jtafkmW6",
        "outputId": "90bc2b5c-d303-4fc8-e09f-14aaa94a557f"
      },
      "outputs": [
        {
          "name": "stdout",
          "output_type": "stream",
          "text": [
            "Model precission:  0.6923076923076923\n"
          ]
        }
      ],
      "source": [
        "# Select the input variables (ACS and Map Win Rate)\n",
        "cols = ['team', 'acs_1', 'acs_2', 'acs_3', 'acs_4', 'acs_5', 'map', 'win_rate']\n",
        "X = data[cols]\n",
        "# Select the output variable (winner)\n",
        "y = data[\"winner\"]\n",
        "\n",
        "# Split the data into a training set and a test set\n",
        "X_train, X_test, y_train, y_test = train_test_split(X, y, test_size=0.2)\n",
        "\n",
        "# Create a logistic regression model\n",
        "model = LogisticRegression(max_iter=10000)\n",
        "\n",
        "# Train the model with the training data\n",
        "model.fit(X_train, y_train)\n",
        "\n",
        "# Evaluate model accuracy with test data\n",
        "precision = model.score(X_test, y_test)\n",
        "print(\"Model precission: \", precision)"
      ]
    },
    {
      "cell_type": "code",
      "execution_count": 10,
      "metadata": {
        "id": "XL9yJLiwv5yB"
      },
      "outputs": [],
      "source": [
        "# Make predictions on new data\n",
        "\n",
        "# Which teams are going to play\n",
        "team_A='Natus Vincere'\n",
        "team_B='Team Heretics'\n",
        "t={'team_A':[team_A],'team_B':[team_B]}\n",
        "team = pd.DataFrame(data=t)\n",
        "team['team_A'] = encoder.fit_transform(team['team_A'])\n",
        "team['team_B'] = encoder.fit_transform(team['team_B'])\n",
        "data_teams = pd.merge(team,data, left_on=\"team_A\", right_on=\"team\")\n",
        "data_teams = pd.merge(team,data, left_on=\"team_B\", right_on=\"team\")\n"
      ]
    },
    {
      "cell_type": "code",
      "execution_count": 21,
      "metadata": {
        "colab": {
          "base_uri": "https://localhost:8080/"
        },
        "id": "kPvUs6GCs_av",
        "outputId": "b09e5be1-1b3b-400c-e901-73bbfd26db0a"
      },
      "outputs": [
        {
          "name": "stdout",
          "output_type": "stream",
          "text": [
            "Winner is: Natus Vincere\n",
            "Probs for:  Natus Vincere : 0.9718531365616011\n",
            "Probs for: Team Heretics : 0.028146863438398943\n",
            "Winner probs: 0.9718531365616011\n"
          ]
        }
      ],
      "source": [
        "# Get the probabilities\n",
        "probs = model.predict_proba(data_teams[cols])\n",
        "\n",
        "# Get the winner\n",
        "if probs[0][1] > probs[0][0]:\n",
        "    winner = team_B\n",
        "    prob_ganador = probs[0][1]\n",
        "else:\n",
        "    winner = team_A\n",
        "    prob_winner = probs[0][0]\n",
        "\n",
        "# Print probs and winner\n",
        "print(\"Winner is:\", winner)\n",
        "print(\"Probs for: \", team_A, \":\", probs[0][0])\n",
        "print(\"Probs for:\", team_B, \":\", probs[0][1])\n",
        "print(\"Winner probs:\", prob_winner)"
      ]
    }
  ],
  "metadata": {
    "colab": {
      "authorship_tag": "ABX9TyMX2Ra6EsJQMkLX8kXThUfz",
      "include_colab_link": true,
      "provenance": []
    },
    "kernelspec": {
      "display_name": "Python 3",
      "name": "python3"
    },
    "language_info": {
      "codemirror_mode": {
        "name": "ipython",
        "version": 3
      },
      "file_extension": ".py",
      "mimetype": "text/x-python",
      "name": "python",
      "nbconvert_exporter": "python",
      "pygments_lexer": "ipython3",
      "version": "3.9.6"
    }
  },
  "nbformat": 4,
  "nbformat_minor": 0
}

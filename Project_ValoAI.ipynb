{
  "nbformat": 4,
  "nbformat_minor": 0,
  "metadata": {
    "colab": {
      "provenance": [],
      "include_colab_link": true
    },
    "kernelspec": {
      "name": "python3",
      "display_name": "Python 3"
    },
    "language_info": {
      "name": "python"
    }
  },
  "cells": [
    {
      "cell_type": "markdown",
      "metadata": {
        "id": "view-in-github",
        "colab_type": "text"
      },
      "source": [
        "<a href=\"https://colab.research.google.com/github/Corosso/ValoAI/blob/main/Project_ValoAI.ipynb\" target=\"_parent\"><img src=\"https://colab.research.google.com/assets/colab-badge.svg\" alt=\"Open In Colab\"/></a>"
      ]
    },
    {
      "cell_type": "code",
      "execution_count": 1,
      "metadata": {
        "id": "2B2RT5sB4ogc"
      },
      "outputs": [],
      "source": [
        "import pandas as pd\n",
        "import numpy as np\n",
        "from sklearn.model_selection import train_test_split\n",
        "from sklearn.linear_model import LogisticRegression\n",
        "from sklearn.metrics import accuracy_score\n",
        "from sklearn.preprocessing import LabelEncoder\n",
        "from sklearn.metrics import f1_score\n",
        "from sklearn import svm\n",
        "\n",
        "# Get the data \n",
        "acs = pd.read_csv(\"teams.csv\")\n",
        "map_win_rate = pd.read_csv(\"map_win_rate.csv\")\n",
        "previous_matches = pd.read_csv(\"previous_matches.csv\")\n"
      ]
    },
    {
      "cell_type": "code",
      "source": [
        "# Split the ACS values into separate columns\n",
        "acs_s = acs['acs'].str.split(',', expand=True).astype(float)\n",
        "acs_s.columns = ['acs_1', 'acs_2', 'acs_3', 'acs_4', 'acs_5']\n",
        "\n",
        "# Concatenate the team name with the ACS values\n",
        "acs_merged = pd.concat([acs['team'], acs_s], axis=1)\n",
        "\n",
        "# Remove the number in parentheses from the map name and encode maps\n",
        "map_win_rate['map'] = map_win_rate['map'].str.replace(r'\\s+\\(.+\\)$', '', regex=True)\n",
        "encoder_maps = LabelEncoder()\n",
        "map_win_rate['map'] = encoder_maps.fit_transform(map_win_rate['map'])\n",
        "\n",
        "# Merge ACS and map win rate\n",
        "acs_merged = pd.merge(acs_merged, map_win_rate, on=\"team\")\n",
        "acs_merged.drop(acs_merged.filter(regex=\"Unname\"),axis=1, inplace=True)"
      ],
      "metadata": {
        "id": "D2vx0sS-fWI5"
      },
      "execution_count": 2,
      "outputs": []
    },
    {
      "cell_type": "code",
      "source": [
        "#Convert team names to numeric values using label encoder\n",
        "encoder_teams = LabelEncoder()\n",
        "acs_merged['team'] = encoder_teams.fit_transform(acs_merged['team'])"
      ],
      "metadata": {
        "id": "Q-HCuXMPU4L_"
      },
      "execution_count": 3,
      "outputs": []
    },
    {
      "cell_type": "code",
      "source": [
        "# Convert team_A and team_B names to numeric values using label encoder\n",
        "previous_matches['team_A'] = encoder_teams.transform(previous_matches['team_A'])\n",
        "previous_matches['team_B'] = encoder_teams.transform(previous_matches['team_B'])"
      ],
      "metadata": {
        "id": "4Yf4iP-NVKBo"
      },
      "execution_count": 4,
      "outputs": []
    },
    {
      "cell_type": "code",
      "source": [
        "# Merge data\n",
        "acs_teams1=pd.merge(previous_matches, acs_merged, left_on=\"team_A\", right_on=\"team\")\n",
        "acs_teams2=pd.merge(previous_matches, acs_merged, left_on=\"team_B\", right_on=\"team\")\n",
        "data=pd.merge(acs_teams1,acs_teams2, on=\"team_A\")"
      ],
      "metadata": {
        "id": "_c_MdNcMoUHO"
      },
      "execution_count": 5,
      "outputs": []
    },
    {
      "cell_type": "code",
      "source": [
        "# Drop redundant data\n",
        "data=data.drop(\"winner_y\", axis=1)\n",
        "data=data.drop(\"team_B_y\", axis=1)\n",
        "data=data.drop(\"map_y\", axis=1)\n",
        "data=data.drop(\"team_y\", axis=1)\n",
        "data=data.drop(\"team_x\", axis=1)"
      ],
      "metadata": {
        "id": "yKK4aA5d6g0Y"
      },
      "execution_count": 6,
      "outputs": []
    },
    {
      "cell_type": "code",
      "source": [
        "# Rename columns\n",
        "data.rename(columns={\"winner_x\": \"winner\", \"team_B_x\": \"team_B\", 'map_x': 'map', 'win_rate_x':'win_rate_A','win_rate_y':'win_rate_B','acs_1_x': 'acs_1_A',\n",
        "                     'acs_2_x': 'acs_2_A','acs_3_x': 'acs_3_A','acs_4_x': 'acs_4_A','acs_5_x': 'acs_5_A','acs_1_y': 'acs_1_B',\n",
        "                     'acs_2_y': 'acs_2_B','acs_3_y': 'acs_3_B','acs_4_y': 'acs_4_B','acs_5_y': 'acs_5_B'}, inplace=True)"
      ],
      "metadata": {
        "id": "OZLV-8u9AB2H"
      },
      "execution_count": 7,
      "outputs": []
    },
    {
      "cell_type": "code",
      "source": [
        "# Replace (\"-\") for NaN\n",
        "data['win_rate_A'] = data['win_rate_A'].replace('-', float('nan'))\n",
        "data['win_rate_B'] = data['win_rate_B'].replace('-', float('nan'))\n",
        "# Replace NaN for zeros\n",
        "data = data.fillna(0)\n",
        "# Convert win rate to float\n",
        "data['win_rate_A'] = data['win_rate_A'].str.rstrip('%').astype(float) / 100\n",
        "data['win_rate_B'] = data['win_rate_B'].str.rstrip('%').astype(float) / 100"
      ],
      "metadata": {
        "id": "mBL4A_JYekzm"
      },
      "execution_count": 8,
      "outputs": []
    },
    {
      "cell_type": "code",
      "source": [
        "# Replace NaN for zeros\n",
        "data = data.fillna(0)"
      ],
      "metadata": {
        "id": "D1-2oAP6StMB"
      },
      "execution_count": 9,
      "outputs": []
    },
    {
      "cell_type": "code",
      "source": [
        "# Select the input variables (ACS and Map Win Rate)\n",
        "cols = [\"team_A\",\"team_B\",'acs_1_A', 'acs_2_A', 'acs_3_A', 'acs_4_A', 'acs_5_A','acs_1_B', 'acs_2_B', 'acs_3_B', 'acs_4_B', 'acs_5_B', 'map', 'win_rate_A','win_rate_B']\n",
        "X = data[cols]\n",
        "\n",
        "# Select the output variable (winner)\n",
        "y = data[\"winner\"]\n",
        "\n",
        "# Split the data into a training set and a test set\n",
        "X_train, X_test, y_train, y_test = train_test_split(X, y, test_size=0.7, random_state=1024 )\n",
        "\n",
        "# Create a logistic regression model\n",
        "model = LogisticRegression(max_iter=10000)\n",
        "model2 = svm.SVC(kernel=\"rbf\",C=0.01, gamma=\"auto\")\n",
        "\n",
        "# Train the model with the training data\n",
        "model.fit(X_train, y_train)\n",
        "model2.fit(X_train, y_train)\n",
        "\n",
        "y_predict=model.predict(X_test)\n",
        "y_predict2=model2.predict(X_test)\n",
        "\n",
        "# Evaluate model accuracy with test data\n",
        "precision = f1_score(y_test, y_predict)\n",
        "precision2 = f1_score(y_test, y_predict2)\n",
        "\n",
        "print(\"Model precission: \", precision)\n",
        "print(\"Model 2 precission: \", precision2)"
      ],
      "metadata": {
        "id": "BMf0jtafkmW6",
        "colab": {
          "base_uri": "https://localhost:8080/"
        },
        "outputId": "2f2266a7-7eee-4279-d106-c7b733c2cd4a"
      },
      "execution_count": 10,
      "outputs": [
        {
          "output_type": "stream",
          "name": "stdout",
          "text": [
            "Model precission:  0.816917728852839\n",
            "Model 2 precission:  0.7387701700828608\n"
          ]
        }
      ]
    },
    {
      "cell_type": "code",
      "source": [
        "# Teams table with its label or tag\n",
        "teams = pd.read_csv(\"teams.csv\")\n",
        "teams.drop('acs',inplace=True, axis=1)\n",
        "teams_encoded = encoder_teams.transform(teams['team'])\n",
        "teams_encoded = pd.DataFrame(teams_encoded, columns=['Tag'])\n",
        "teams_table=pd.merge(teams, teams_encoded,left_index=True, right_index=True)\n",
        "teams_table"
      ],
      "metadata": {
        "id": "i93wX6JnllkL",
        "colab": {
          "base_uri": "https://localhost:8080/",
          "height": 677
        },
        "outputId": "2da559d3-cc85-4f27-973f-13a294924122"
      },
      "execution_count": 11,
      "outputs": [
        {
          "output_type": "execute_result",
          "data": {
            "text/plain": [
              "             team  Tag\n",
              "0   Team Heretics   17\n",
              "1    Karmine Corp   10\n",
              "2          FNATIC    4\n",
              "3     BBL Esports    1\n",
              "4             KOI    8\n",
              "5   Team Vitality   19\n",
              "6     Team Liquid   18\n",
              "7     FUT Esports    6\n",
              "8   Natus Vincere   15\n",
              "9   Giants Gaming    7\n",
              "10    100 Thieves    0\n",
              "11        Cloud 9    2\n",
              "12  Evil Geniuses    3\n",
              "13          FURIA    5\n",
              "14    KRÜ Esports    9\n",
              "15       Leviatan   12\n",
              "16           LOUD   11\n",
              "17           MIBR   13\n",
              "18    NRG Esports   14\n",
              "19      Sentinels   16"
            ],
            "text/html": [
              "\n",
              "  <div id=\"df-bf225be3-8788-40a3-b349-022515aeee29\">\n",
              "    <div class=\"colab-df-container\">\n",
              "      <div>\n",
              "<style scoped>\n",
              "    .dataframe tbody tr th:only-of-type {\n",
              "        vertical-align: middle;\n",
              "    }\n",
              "\n",
              "    .dataframe tbody tr th {\n",
              "        vertical-align: top;\n",
              "    }\n",
              "\n",
              "    .dataframe thead th {\n",
              "        text-align: right;\n",
              "    }\n",
              "</style>\n",
              "<table border=\"1\" class=\"dataframe\">\n",
              "  <thead>\n",
              "    <tr style=\"text-align: right;\">\n",
              "      <th></th>\n",
              "      <th>team</th>\n",
              "      <th>Tag</th>\n",
              "    </tr>\n",
              "  </thead>\n",
              "  <tbody>\n",
              "    <tr>\n",
              "      <th>0</th>\n",
              "      <td>Team Heretics</td>\n",
              "      <td>17</td>\n",
              "    </tr>\n",
              "    <tr>\n",
              "      <th>1</th>\n",
              "      <td>Karmine Corp</td>\n",
              "      <td>10</td>\n",
              "    </tr>\n",
              "    <tr>\n",
              "      <th>2</th>\n",
              "      <td>FNATIC</td>\n",
              "      <td>4</td>\n",
              "    </tr>\n",
              "    <tr>\n",
              "      <th>3</th>\n",
              "      <td>BBL Esports</td>\n",
              "      <td>1</td>\n",
              "    </tr>\n",
              "    <tr>\n",
              "      <th>4</th>\n",
              "      <td>KOI</td>\n",
              "      <td>8</td>\n",
              "    </tr>\n",
              "    <tr>\n",
              "      <th>5</th>\n",
              "      <td>Team Vitality</td>\n",
              "      <td>19</td>\n",
              "    </tr>\n",
              "    <tr>\n",
              "      <th>6</th>\n",
              "      <td>Team Liquid</td>\n",
              "      <td>18</td>\n",
              "    </tr>\n",
              "    <tr>\n",
              "      <th>7</th>\n",
              "      <td>FUT Esports</td>\n",
              "      <td>6</td>\n",
              "    </tr>\n",
              "    <tr>\n",
              "      <th>8</th>\n",
              "      <td>Natus Vincere</td>\n",
              "      <td>15</td>\n",
              "    </tr>\n",
              "    <tr>\n",
              "      <th>9</th>\n",
              "      <td>Giants Gaming</td>\n",
              "      <td>7</td>\n",
              "    </tr>\n",
              "    <tr>\n",
              "      <th>10</th>\n",
              "      <td>100 Thieves</td>\n",
              "      <td>0</td>\n",
              "    </tr>\n",
              "    <tr>\n",
              "      <th>11</th>\n",
              "      <td>Cloud 9</td>\n",
              "      <td>2</td>\n",
              "    </tr>\n",
              "    <tr>\n",
              "      <th>12</th>\n",
              "      <td>Evil Geniuses</td>\n",
              "      <td>3</td>\n",
              "    </tr>\n",
              "    <tr>\n",
              "      <th>13</th>\n",
              "      <td>FURIA</td>\n",
              "      <td>5</td>\n",
              "    </tr>\n",
              "    <tr>\n",
              "      <th>14</th>\n",
              "      <td>KRÜ Esports</td>\n",
              "      <td>9</td>\n",
              "    </tr>\n",
              "    <tr>\n",
              "      <th>15</th>\n",
              "      <td>Leviatan</td>\n",
              "      <td>12</td>\n",
              "    </tr>\n",
              "    <tr>\n",
              "      <th>16</th>\n",
              "      <td>LOUD</td>\n",
              "      <td>11</td>\n",
              "    </tr>\n",
              "    <tr>\n",
              "      <th>17</th>\n",
              "      <td>MIBR</td>\n",
              "      <td>13</td>\n",
              "    </tr>\n",
              "    <tr>\n",
              "      <th>18</th>\n",
              "      <td>NRG Esports</td>\n",
              "      <td>14</td>\n",
              "    </tr>\n",
              "    <tr>\n",
              "      <th>19</th>\n",
              "      <td>Sentinels</td>\n",
              "      <td>16</td>\n",
              "    </tr>\n",
              "  </tbody>\n",
              "</table>\n",
              "</div>\n",
              "      <button class=\"colab-df-convert\" onclick=\"convertToInteractive('df-bf225be3-8788-40a3-b349-022515aeee29')\"\n",
              "              title=\"Convert this dataframe to an interactive table.\"\n",
              "              style=\"display:none;\">\n",
              "        \n",
              "  <svg xmlns=\"http://www.w3.org/2000/svg\" height=\"24px\"viewBox=\"0 0 24 24\"\n",
              "       width=\"24px\">\n",
              "    <path d=\"M0 0h24v24H0V0z\" fill=\"none\"/>\n",
              "    <path d=\"M18.56 5.44l.94 2.06.94-2.06 2.06-.94-2.06-.94-.94-2.06-.94 2.06-2.06.94zm-11 1L8.5 8.5l.94-2.06 2.06-.94-2.06-.94L8.5 2.5l-.94 2.06-2.06.94zm10 10l.94 2.06.94-2.06 2.06-.94-2.06-.94-.94-2.06-.94 2.06-2.06.94z\"/><path d=\"M17.41 7.96l-1.37-1.37c-.4-.4-.92-.59-1.43-.59-.52 0-1.04.2-1.43.59L10.3 9.45l-7.72 7.72c-.78.78-.78 2.05 0 2.83L4 21.41c.39.39.9.59 1.41.59.51 0 1.02-.2 1.41-.59l7.78-7.78 2.81-2.81c.8-.78.8-2.07 0-2.86zM5.41 20L4 18.59l7.72-7.72 1.47 1.35L5.41 20z\"/>\n",
              "  </svg>\n",
              "      </button>\n",
              "      \n",
              "  <style>\n",
              "    .colab-df-container {\n",
              "      display:flex;\n",
              "      flex-wrap:wrap;\n",
              "      gap: 12px;\n",
              "    }\n",
              "\n",
              "    .colab-df-convert {\n",
              "      background-color: #E8F0FE;\n",
              "      border: none;\n",
              "      border-radius: 50%;\n",
              "      cursor: pointer;\n",
              "      display: none;\n",
              "      fill: #1967D2;\n",
              "      height: 32px;\n",
              "      padding: 0 0 0 0;\n",
              "      width: 32px;\n",
              "    }\n",
              "\n",
              "    .colab-df-convert:hover {\n",
              "      background-color: #E2EBFA;\n",
              "      box-shadow: 0px 1px 2px rgba(60, 64, 67, 0.3), 0px 1px 3px 1px rgba(60, 64, 67, 0.15);\n",
              "      fill: #174EA6;\n",
              "    }\n",
              "\n",
              "    [theme=dark] .colab-df-convert {\n",
              "      background-color: #3B4455;\n",
              "      fill: #D2E3FC;\n",
              "    }\n",
              "\n",
              "    [theme=dark] .colab-df-convert:hover {\n",
              "      background-color: #434B5C;\n",
              "      box-shadow: 0px 1px 3px 1px rgba(0, 0, 0, 0.15);\n",
              "      filter: drop-shadow(0px 1px 2px rgba(0, 0, 0, 0.3));\n",
              "      fill: #FFFFFF;\n",
              "    }\n",
              "  </style>\n",
              "\n",
              "      <script>\n",
              "        const buttonEl =\n",
              "          document.querySelector('#df-bf225be3-8788-40a3-b349-022515aeee29 button.colab-df-convert');\n",
              "        buttonEl.style.display =\n",
              "          google.colab.kernel.accessAllowed ? 'block' : 'none';\n",
              "\n",
              "        async function convertToInteractive(key) {\n",
              "          const element = document.querySelector('#df-bf225be3-8788-40a3-b349-022515aeee29');\n",
              "          const dataTable =\n",
              "            await google.colab.kernel.invokeFunction('convertToInteractive',\n",
              "                                                     [key], {});\n",
              "          if (!dataTable) return;\n",
              "\n",
              "          const docLinkHtml = 'Like what you see? Visit the ' +\n",
              "            '<a target=\"_blank\" href=https://colab.research.google.com/notebooks/data_table.ipynb>data table notebook</a>'\n",
              "            + ' to learn more about interactive tables.';\n",
              "          element.innerHTML = '';\n",
              "          dataTable['output_type'] = 'display_data';\n",
              "          await google.colab.output.renderOutput(dataTable, element);\n",
              "          const docLink = document.createElement('div');\n",
              "          docLink.innerHTML = docLinkHtml;\n",
              "          element.appendChild(docLink);\n",
              "        }\n",
              "      </script>\n",
              "    </div>\n",
              "  </div>\n",
              "  "
            ]
          },
          "metadata": {},
          "execution_count": 11
        }
      ]
    },
    {
      "cell_type": "markdown",
      "source": [
        "#Make predictions on selected teams"
      ],
      "metadata": {
        "id": "QgrINO80qL3k"
      }
    },
    {
      "cell_type": "code",
      "source": [
        "# Which teams are going to play\n",
        "tA=9\n",
        "tB=5"
      ],
      "metadata": {
        "id": "XL9yJLiwv5yB"
      },
      "execution_count": 12,
      "outputs": []
    },
    {
      "cell_type": "code",
      "source": [
        "#Set the team A on a dataframe\n",
        "\n",
        "if ((X.loc[X['team_A'] == tA]).empty):\n",
        "  t1 = X.loc[X['team_B'] == tA]\n",
        "  t1.drop(['team_A','acs_1_A','acs_2_A','acs_3_A','acs_4_A','acs_5_A','win_rate_A'],inplace=True, axis=1)\n",
        "  t1.drop_duplicates('map', inplace=True)\n",
        "  t1 = t1.reset_index(drop=True)\n",
        "else:\n",
        "  t1 = X.loc[X['team_A'] == tA]\n",
        "  t1.drop(['team_B','acs_1_B','acs_2_B','acs_3_B','acs_4_B','acs_5_B','win_rate_B'],inplace=True, axis=1)\n",
        "  t1.drop_duplicates('map', inplace=True)\n",
        "  t1 = t1.reset_index(drop=True)  "
      ],
      "metadata": {
        "colab": {
          "base_uri": "https://localhost:8080/"
        },
        "id": "zhlh3SJmZg_M",
        "outputId": "208d8a24-6f14-4857-c9d1-8530f862d189"
      },
      "execution_count": 13,
      "outputs": [
        {
          "output_type": "stream",
          "name": "stderr",
          "text": [
            "<ipython-input-13-83b4c9490afe>:10: SettingWithCopyWarning: \n",
            "A value is trying to be set on a copy of a slice from a DataFrame\n",
            "\n",
            "See the caveats in the documentation: https://pandas.pydata.org/pandas-docs/stable/user_guide/indexing.html#returning-a-view-versus-a-copy\n",
            "  t1.drop(['team_B','acs_1_B','acs_2_B','acs_3_B','acs_4_B','acs_5_B','win_rate_B'],inplace=True, axis=1)\n",
            "<ipython-input-13-83b4c9490afe>:11: SettingWithCopyWarning: \n",
            "A value is trying to be set on a copy of a slice from a DataFrame\n",
            "\n",
            "See the caveats in the documentation: https://pandas.pydata.org/pandas-docs/stable/user_guide/indexing.html#returning-a-view-versus-a-copy\n",
            "  t1.drop_duplicates('map', inplace=True)\n"
          ]
        }
      ]
    },
    {
      "cell_type": "code",
      "source": [
        "#Set the team B on a dataframe\n",
        "if ((X.loc[X['team_B'] == tB]).empty):\n",
        "  t2 = X.loc[X['team_A'] == tB]\n",
        "  t2.drop(['team_B','acs_1_B','acs_2_B','acs_3_B','acs_4_B','acs_5_B','win_rate_B'],inplace=True, axis=1)\n",
        "  t2.drop_duplicates('map', inplace=True)\n",
        "  t2 = t2.reset_index(drop=True)\n",
        "else:\n",
        "  t2 = X.loc[X['team_B'] == tB]\n",
        "  t2.drop(['team_A','acs_1_A','acs_2_A','acs_3_A','acs_4_A','acs_5_A','win_rate_A'],inplace=True, axis=1)\n",
        "  t2.drop_duplicates('map', inplace=True)\n",
        "  t2 = t2.reset_index(drop=True)"
      ],
      "metadata": {
        "id": "KeMbL6g5h_w1",
        "colab": {
          "base_uri": "https://localhost:8080/"
        },
        "outputId": "1b77b59d-4332-45ae-c516-5d6b32086b5d"
      },
      "execution_count": 14,
      "outputs": [
        {
          "output_type": "stream",
          "name": "stderr",
          "text": [
            "<ipython-input-14-7c79468c9077>:9: SettingWithCopyWarning: \n",
            "A value is trying to be set on a copy of a slice from a DataFrame\n",
            "\n",
            "See the caveats in the documentation: https://pandas.pydata.org/pandas-docs/stable/user_guide/indexing.html#returning-a-view-versus-a-copy\n",
            "  t2.drop(['team_A','acs_1_A','acs_2_A','acs_3_A','acs_4_A','acs_5_A','win_rate_A'],inplace=True, axis=1)\n",
            "<ipython-input-14-7c79468c9077>:10: SettingWithCopyWarning: \n",
            "A value is trying to be set on a copy of a slice from a DataFrame\n",
            "\n",
            "See the caveats in the documentation: https://pandas.pydata.org/pandas-docs/stable/user_guide/indexing.html#returning-a-view-versus-a-copy\n",
            "  t2.drop_duplicates('map', inplace=True)\n"
          ]
        }
      ]
    },
    {
      "cell_type": "code",
      "source": [
        "# Merge the data of both teams\n",
        "m=pd.merge(t1, t2, on='map', how='outer')"
      ],
      "metadata": {
        "id": "G4zBfqUEXyJ3"
      },
      "execution_count": 15,
      "outputs": []
    },
    {
      "cell_type": "code",
      "source": [
        "# Rename Columns\n",
        "m.rename(columns={\"team_A_x\": \"team_A\",'team_A_y':'team_B', 'win_rate_A_x':'win_rate_A','win_rate_A_y':'win_rate_B','acs_1_A_x': 'acs_1_A',\n",
        "                     'acs_2_A_x': 'acs_2_A','acs_3_A_x': 'acs_3_A','acs_4_A_x': 'acs_4_A','acs_5_A_x': 'acs_5_A','acs_1_A_y': 'acs_1_B',\n",
        "                     'acs_2_A_y': 'acs_2_B','acs_3_A_y': 'acs_3_B','acs_4_A_y': 'acs_4_B','acs_5_A_y': 'acs_5_B'}, inplace=True)"
      ],
      "metadata": {
        "id": "gudgJaiLkJk3"
      },
      "execution_count": 16,
      "outputs": []
    },
    {
      "cell_type": "code",
      "source": [
        "# Get the probabilities\n",
        "X_teams = m[cols]\n",
        "probs = model.predict_proba(X_teams)"
      ],
      "metadata": {
        "id": "kPvUs6GCs_av"
      },
      "execution_count": 17,
      "outputs": []
    },
    {
      "cell_type": "code",
      "source": [
        "#Get the probs on a Data frame\n",
        "probs=pd.DataFrame(probs, columns=[f\"Probs Team_A: {tA}\", f\"Probs Team_B: {tB}\"])"
      ],
      "metadata": {
        "id": "GzTEZyOZNEXf"
      },
      "execution_count": 18,
      "outputs": []
    },
    {
      "cell_type": "code",
      "source": [
        "# Get the map tag for each probs for a map\n",
        "probs_map=pd.DataFrame(probs.astype(float), map_win_rate['map'])"
      ],
      "metadata": {
        "id": "LfJEVJ9CN7WH"
      },
      "execution_count": 19,
      "outputs": []
    },
    {
      "cell_type": "code",
      "source": [
        "# Get a map table with its tag\n",
        "maps = encoder_maps.inverse_transform(map_win_rate['map'])\n",
        "maps = pd.DataFrame(maps,columns=[\"map\"])\n",
        "maps_encoded = encoder_maps.transform(maps)\n",
        "maps_encoded = pd.DataFrame(maps_encoded,columns=[\"tag\"])\n",
        "maps_table=pd.merge(maps, maps_encoded,left_index=True, right_index=True)\n"
      ],
      "metadata": {
        "colab": {
          "base_uri": "https://localhost:8080/"
        },
        "id": "WF6_7ukDi87b",
        "outputId": "e8ddaee7-5e31-49a4-fa6d-dc0470d04da3"
      },
      "execution_count": 20,
      "outputs": [
        {
          "output_type": "stream",
          "name": "stderr",
          "text": [
            "/usr/local/lib/python3.9/dist-packages/sklearn/preprocessing/_label.py:134: DataConversionWarning: A column-vector y was passed when a 1d array was expected. Please change the shape of y to (n_samples, ), for example using ravel().\n",
            "  y = column_or_1d(y, dtype=self.classes_.dtype, warn=True)\n"
          ]
        }
      ]
    },
    {
      "cell_type": "code",
      "source": [
        "#Merge the map probs and the name of the map with the tag\n",
        "probs_map=pd.merge(maps_table,probs_map, left_on=\"tag\", right_on=\"map\", how=\"left\")\n",
        "probs_map.drop_duplicates('Probs Team_A: 9',inplace=True)\n",
        "probs_map.reset_index(drop=True)\n",
        "probs_map"
      ],
      "metadata": {
        "colab": {
          "base_uri": "https://localhost:8080/",
          "height": 332
        },
        "id": "xPQBLxc4jZR7",
        "outputId": "67d004ff-fd8c-4350-a4ba-94b884378038"
      },
      "execution_count": 21,
      "outputs": [
        {
          "output_type": "execute_result",
          "data": {
            "text/plain": [
              "          map  tag  Probs Team_A: 9  Probs Team_B: 5\n",
              "0        Bind    1         0.893087         0.106913\n",
              "20      Haven    4         0.883891         0.116109\n",
              "40      Split    8         0.915512         0.084488\n",
              "60     Ascent    0         0.894468         0.105532\n",
              "80     Icebox    5         0.890054         0.109946\n",
              "100    Breeze    2         0.865612         0.134388\n",
              "120  Fracture    3         0.906459         0.093541\n",
              "140     Pearl    7         0.912362         0.087638\n",
              "160     Lotus    6         0.909653         0.090347"
            ],
            "text/html": [
              "\n",
              "  <div id=\"df-4681b26f-a762-4f18-95b4-d225804e42cb\">\n",
              "    <div class=\"colab-df-container\">\n",
              "      <div>\n",
              "<style scoped>\n",
              "    .dataframe tbody tr th:only-of-type {\n",
              "        vertical-align: middle;\n",
              "    }\n",
              "\n",
              "    .dataframe tbody tr th {\n",
              "        vertical-align: top;\n",
              "    }\n",
              "\n",
              "    .dataframe thead th {\n",
              "        text-align: right;\n",
              "    }\n",
              "</style>\n",
              "<table border=\"1\" class=\"dataframe\">\n",
              "  <thead>\n",
              "    <tr style=\"text-align: right;\">\n",
              "      <th></th>\n",
              "      <th>map</th>\n",
              "      <th>tag</th>\n",
              "      <th>Probs Team_A: 9</th>\n",
              "      <th>Probs Team_B: 5</th>\n",
              "    </tr>\n",
              "  </thead>\n",
              "  <tbody>\n",
              "    <tr>\n",
              "      <th>0</th>\n",
              "      <td>Bind</td>\n",
              "      <td>1</td>\n",
              "      <td>0.893087</td>\n",
              "      <td>0.106913</td>\n",
              "    </tr>\n",
              "    <tr>\n",
              "      <th>20</th>\n",
              "      <td>Haven</td>\n",
              "      <td>4</td>\n",
              "      <td>0.883891</td>\n",
              "      <td>0.116109</td>\n",
              "    </tr>\n",
              "    <tr>\n",
              "      <th>40</th>\n",
              "      <td>Split</td>\n",
              "      <td>8</td>\n",
              "      <td>0.915512</td>\n",
              "      <td>0.084488</td>\n",
              "    </tr>\n",
              "    <tr>\n",
              "      <th>60</th>\n",
              "      <td>Ascent</td>\n",
              "      <td>0</td>\n",
              "      <td>0.894468</td>\n",
              "      <td>0.105532</td>\n",
              "    </tr>\n",
              "    <tr>\n",
              "      <th>80</th>\n",
              "      <td>Icebox</td>\n",
              "      <td>5</td>\n",
              "      <td>0.890054</td>\n",
              "      <td>0.109946</td>\n",
              "    </tr>\n",
              "    <tr>\n",
              "      <th>100</th>\n",
              "      <td>Breeze</td>\n",
              "      <td>2</td>\n",
              "      <td>0.865612</td>\n",
              "      <td>0.134388</td>\n",
              "    </tr>\n",
              "    <tr>\n",
              "      <th>120</th>\n",
              "      <td>Fracture</td>\n",
              "      <td>3</td>\n",
              "      <td>0.906459</td>\n",
              "      <td>0.093541</td>\n",
              "    </tr>\n",
              "    <tr>\n",
              "      <th>140</th>\n",
              "      <td>Pearl</td>\n",
              "      <td>7</td>\n",
              "      <td>0.912362</td>\n",
              "      <td>0.087638</td>\n",
              "    </tr>\n",
              "    <tr>\n",
              "      <th>160</th>\n",
              "      <td>Lotus</td>\n",
              "      <td>6</td>\n",
              "      <td>0.909653</td>\n",
              "      <td>0.090347</td>\n",
              "    </tr>\n",
              "  </tbody>\n",
              "</table>\n",
              "</div>\n",
              "      <button class=\"colab-df-convert\" onclick=\"convertToInteractive('df-4681b26f-a762-4f18-95b4-d225804e42cb')\"\n",
              "              title=\"Convert this dataframe to an interactive table.\"\n",
              "              style=\"display:none;\">\n",
              "        \n",
              "  <svg xmlns=\"http://www.w3.org/2000/svg\" height=\"24px\"viewBox=\"0 0 24 24\"\n",
              "       width=\"24px\">\n",
              "    <path d=\"M0 0h24v24H0V0z\" fill=\"none\"/>\n",
              "    <path d=\"M18.56 5.44l.94 2.06.94-2.06 2.06-.94-2.06-.94-.94-2.06-.94 2.06-2.06.94zm-11 1L8.5 8.5l.94-2.06 2.06-.94-2.06-.94L8.5 2.5l-.94 2.06-2.06.94zm10 10l.94 2.06.94-2.06 2.06-.94-2.06-.94-.94-2.06-.94 2.06-2.06.94z\"/><path d=\"M17.41 7.96l-1.37-1.37c-.4-.4-.92-.59-1.43-.59-.52 0-1.04.2-1.43.59L10.3 9.45l-7.72 7.72c-.78.78-.78 2.05 0 2.83L4 21.41c.39.39.9.59 1.41.59.51 0 1.02-.2 1.41-.59l7.78-7.78 2.81-2.81c.8-.78.8-2.07 0-2.86zM5.41 20L4 18.59l7.72-7.72 1.47 1.35L5.41 20z\"/>\n",
              "  </svg>\n",
              "      </button>\n",
              "      \n",
              "  <style>\n",
              "    .colab-df-container {\n",
              "      display:flex;\n",
              "      flex-wrap:wrap;\n",
              "      gap: 12px;\n",
              "    }\n",
              "\n",
              "    .colab-df-convert {\n",
              "      background-color: #E8F0FE;\n",
              "      border: none;\n",
              "      border-radius: 50%;\n",
              "      cursor: pointer;\n",
              "      display: none;\n",
              "      fill: #1967D2;\n",
              "      height: 32px;\n",
              "      padding: 0 0 0 0;\n",
              "      width: 32px;\n",
              "    }\n",
              "\n",
              "    .colab-df-convert:hover {\n",
              "      background-color: #E2EBFA;\n",
              "      box-shadow: 0px 1px 2px rgba(60, 64, 67, 0.3), 0px 1px 3px 1px rgba(60, 64, 67, 0.15);\n",
              "      fill: #174EA6;\n",
              "    }\n",
              "\n",
              "    [theme=dark] .colab-df-convert {\n",
              "      background-color: #3B4455;\n",
              "      fill: #D2E3FC;\n",
              "    }\n",
              "\n",
              "    [theme=dark] .colab-df-convert:hover {\n",
              "      background-color: #434B5C;\n",
              "      box-shadow: 0px 1px 3px 1px rgba(0, 0, 0, 0.15);\n",
              "      filter: drop-shadow(0px 1px 2px rgba(0, 0, 0, 0.3));\n",
              "      fill: #FFFFFF;\n",
              "    }\n",
              "  </style>\n",
              "\n",
              "      <script>\n",
              "        const buttonEl =\n",
              "          document.querySelector('#df-4681b26f-a762-4f18-95b4-d225804e42cb button.colab-df-convert');\n",
              "        buttonEl.style.display =\n",
              "          google.colab.kernel.accessAllowed ? 'block' : 'none';\n",
              "\n",
              "        async function convertToInteractive(key) {\n",
              "          const element = document.querySelector('#df-4681b26f-a762-4f18-95b4-d225804e42cb');\n",
              "          const dataTable =\n",
              "            await google.colab.kernel.invokeFunction('convertToInteractive',\n",
              "                                                     [key], {});\n",
              "          if (!dataTable) return;\n",
              "\n",
              "          const docLinkHtml = 'Like what you see? Visit the ' +\n",
              "            '<a target=\"_blank\" href=https://colab.research.google.com/notebooks/data_table.ipynb>data table notebook</a>'\n",
              "            + ' to learn more about interactive tables.';\n",
              "          element.innerHTML = '';\n",
              "          dataTable['output_type'] = 'display_data';\n",
              "          await google.colab.output.renderOutput(dataTable, element);\n",
              "          const docLink = document.createElement('div');\n",
              "          docLink.innerHTML = docLinkHtml;\n",
              "          element.appendChild(docLink);\n",
              "        }\n",
              "      </script>\n",
              "    </div>\n",
              "  </div>\n",
              "  "
            ]
          },
          "metadata": {},
          "execution_count": 21
        }
      ]
    },
    {
      "cell_type": "code",
      "source": [
        "# Get the average prob of winning\n",
        "probs.mean()"
      ],
      "metadata": {
        "colab": {
          "base_uri": "https://localhost:8080/"
        },
        "id": "zxWnf0X0PlDe",
        "outputId": "b158bb60-16b0-4d28-d27f-67de3a852581"
      },
      "execution_count": 22,
      "outputs": [
        {
          "output_type": "execute_result",
          "data": {
            "text/plain": [
              "Probs Team_A: 9    0.896789\n",
              "Probs Team_B: 5    0.103211\n",
              "dtype: float64"
            ]
          },
          "metadata": {},
          "execution_count": 22
        }
      ]
    }
  ]
}